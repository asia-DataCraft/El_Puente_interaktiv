{
 "cells": [
  {
   "cell_type": "code",
   "execution_count": 10,
   "metadata": {},
   "outputs": [],
   "source": [
    "import pandas as pd\n",
    "import numpy as np\n",
    "\n",
    "import pickle\n",
    "\n",
    "import plotly.offline as pyo\n",
    "import plotly.graph_objs as go\n",
    "import plotly.express as px\n"
   ]
  },
  {
   "cell_type": "code",
   "execution_count": 2,
   "metadata": {},
   "outputs": [
    {
     "data": {
      "text/html": [
       "<div>\n",
       "<style scoped>\n",
       "    .dataframe tbody tr th:only-of-type {\n",
       "        vertical-align: middle;\n",
       "    }\n",
       "\n",
       "    .dataframe tbody tr th {\n",
       "        vertical-align: top;\n",
       "    }\n",
       "\n",
       "    .dataframe thead th {\n",
       "        text-align: right;\n",
       "    }\n",
       "</style>\n",
       "<table border=\"1\" class=\"dataframe\">\n",
       "  <thead>\n",
       "    <tr style=\"text-align: right;\">\n",
       "      <th></th>\n",
       "      <th>Monat</th>\n",
       "      <th>Produkt</th>\n",
       "      <th>Umsatz</th>\n",
       "    </tr>\n",
       "  </thead>\n",
       "  <tbody>\n",
       "    <tr>\n",
       "      <th>0</th>\n",
       "      <td>Jan</td>\n",
       "      <td>Produkt_A_DE</td>\n",
       "      <td>15562.55</td>\n",
       "    </tr>\n",
       "  </tbody>\n",
       "</table>\n",
       "</div>"
      ],
      "text/plain": [
       "  Monat       Produkt    Umsatz\n",
       "0   Jan  Produkt_A_DE  15562.55"
      ]
     },
     "execution_count": 2,
     "metadata": {},
     "output_type": "execute_result"
    }
   ],
   "source": [
    "\"\"\"Dataframe nach umwandlung \"total_melt\" als pickel lesen und speichern in variable df\"\"\"\n",
    "df = pd.read_pickle(\"total_melt.pkl\")\n",
    "df.head(1)\n"
   ]
  },
  {
   "cell_type": "code",
   "execution_count": 3,
   "metadata": {},
   "outputs": [
    {
     "data": {
      "text/plain": [
       "'produkt_interaktiv.html'"
      ]
     },
     "execution_count": 3,
     "metadata": {},
     "output_type": "execute_result"
    }
   ],
   "source": [
    "\"\"\"mit hilfe ploty interaktive diagram 'Umsatz nach Produkt' erstellen und als html Datei speichern\"\"\"\n",
    "fig = go.Figure()\n",
    "\n",
    "for produkt in df[\"Produkt\"].unique():\n",
    "    gefiltert = df[df[\"Produkt\"] == produkt]\n",
    "    fig.add_trace(go.Bar(x=gefiltert[\"Monat\"], y=gefiltert[\"Umsatz\"], name=produkt))\n",
    "\n",
    "fig.update_layout(title=\"Umsatz nach Produkt pa\", barmode=\"group\")\n",
    "\n",
    "pyo.plot(fig, filename=\"produkt_interaktiv.html\")\n"
   ]
  },
  {
   "cell_type": "code",
   "execution_count": 4,
   "metadata": {},
   "outputs": [
    {
     "data": {
      "text/plain": [
       "'monat_interaktiv.html'"
      ]
     },
     "execution_count": 4,
     "metadata": {},
     "output_type": "execute_result"
    }
   ],
   "source": [
    "\"\"\"mit hilfe ploty interaktive diagram 'Umatz nach Monat' erstellen und als html Datei speichern\"\"\"\n",
    "fig_mtl = go.Figure()\n",
    "\n",
    "for monat in df[\"Monat\"].unique():\n",
    "    gefiltert = df[df[\"Monat\"] == monat]\n",
    "    fig_mtl.add_trace(go.Bar(x=gefiltert[\"Produkt\"], y=gefiltert[\"Umsatz\"], name=monat))\n",
    "\n",
    "fig_mtl.update_layout(title=\"Umsatz nach Monat pa\", barmode=\"group\")\n",
    "\n",
    "pyo.plot(fig_mtl, filename=\"monat_interaktiv.html\")"
   ]
  },
  {
   "cell_type": "code",
   "execution_count": 19,
   "metadata": {},
   "outputs": [],
   "source": [
    "\"\"\"mit hilfe ploty interaktive Kreisdiagram 'Produkt Anteile' erstellen und als html Datei speichern\"\"\"\n",
    "df_grupiert = df.groupby([\"Monat\", \"Produkt\"])[\"Umsatz\"].sum().reset_index()\n",
    "df_mtl_total = df.groupby(\"Monat\")[\"Umsatz\"].sum().reset_index()\n",
    "\n",
    "df_grupiert = df_grupiert.merge(df_mtl_total, on=\"Monat\", suffixes=(\"\", \"_total\"))\n",
    "df_grupiert[\"Umsatzanteil\"] = df_grupiert[\"Umsatz\"] / df_grupiert[\"Umsatz_total\"] * 100\n",
    "\n",
    "fig_prod = px.pie(df_grupiert, values=\"Umsatzanteil\", names=\"Produkt\", title=\"Umsatzanteil nach Produkt\")\n",
    "\n",
    "fig_prod.write_html(\"anteil_produkt_interaktive.html\")\n"
   ]
  },
  {
   "cell_type": "code",
   "execution_count": 18,
   "metadata": {},
   "outputs": [],
   "source": [
    "\"\"\"mit hilfe ploty interaktive Kreisdiagram 'Land Anteile' erstellen und als html Datei speichern\"\"\"\n",
    "df[\"Land\"] = df[\"Produkt\"].str.split(\"_\").str[-1]\n",
    "df_grupe = df.groupby(\"Land\")[\"Umsatz\"].sum().reset_index()\n",
    "\n",
    "df_grupe[\"Umsatzanteil\"] = df_grupe[\"Umsatz\"] / df_grupe[\"Umsatz\"].sum() * 100\n",
    "\n",
    "fig_tot = px.pie(df_grupe, values=\"Umsatzanteil\", names=\"Land\", title='Umsatzanteil DE vs. EU')\n",
    "fig_tot.write_html(\"total_interaktiv.html\")\n"
   ]
  },
  {
   "cell_type": "code",
   "execution_count": 8,
   "metadata": {},
   "outputs": [
    {
     "data": {
      "text/plain": [
       "'monat_inter_scater.html'"
      ]
     },
     "execution_count": 8,
     "metadata": {},
     "output_type": "execute_result"
    }
   ],
   "source": [
    "\"\"\"mit hilfe ploty interaktive Wolkendiagram erstellen und als html Datei speichern\"\"\"\n",
    "fig_scat = go.Figure()\n",
    "\n",
    "for monat in df[\"Monat\"].unique():\n",
    "    gefiltert = df[df[\"Monat\"] == monat]\n",
    "    fig_scat.add_trace(go.Scatter(x=gefiltert[\"Produkt\"], y=gefiltert[\"Umsatz\"], mode=\"markers\", name=monat))\n",
    "\n",
    "fig_scat.update_layout(title=\"Umsatz nach Monat pa\", xaxis_title=\"Produkt\", yaxis_title=\"Umsatz\")\n",
    "\n",
    "pyo.plot(fig_scat, filename=\"monat_inter_scater.html\")\n"
   ]
  },
  {
   "cell_type": "code",
   "execution_count": 7,
   "metadata": {},
   "outputs": [
    {
     "name": "stderr",
     "output_type": "stream",
     "text": [
      "c:\\Users\\User\\.conda\\envs\\DataCraft\\Lib\\site-packages\\plotly\\graph_objs\\_deprecations.py:378: DeprecationWarning:\n",
      "\n",
      "plotly.graph_objs.Line is deprecated.\n",
      "Please replace it with one of the following more specific types\n",
      "  - plotly.graph_objs.scatter.Line\n",
      "  - plotly.graph_objs.layout.shape.Line\n",
      "  - etc.\n",
      "\n",
      "\n"
     ]
    },
    {
     "data": {
      "text/plain": [
       "'monat_inter_linie.html'"
      ]
     },
     "execution_count": 7,
     "metadata": {},
     "output_type": "execute_result"
    }
   ],
   "source": [
    "\"\"\"mit hilfe ploty Liniendiagram 'Umatz nach Monat' erstellen und als html Datei speichern\"\"\"\n",
    "fig_mtl = go.Figure()\n",
    "\n",
    "for monat in df[\"Monat\"].unique():\n",
    "    gefiltert = df[df[\"Monat\"] == monat]\n",
    "    fig_mtl.add_trace(go.Line(x=gefiltert[\"Produkt\"], y=gefiltert[\"Umsatz\"], name=monat))\n",
    "\n",
    "fig_mtl.update_layout(title=\"Umsatz nach Monat pa\", barmode=\"group\")\n",
    "\n",
    "pyo.plot(fig_mtl, filename=\"monat_inter_linie.html\")\n"
   ]
  }
 ],
 "metadata": {
  "kernelspec": {
   "display_name": "DataCraft",
   "language": "python",
   "name": "python3"
  },
  "language_info": {
   "codemirror_mode": {
    "name": "ipython",
    "version": 3
   },
   "file_extension": ".py",
   "mimetype": "text/x-python",
   "name": "python",
   "nbconvert_exporter": "python",
   "pygments_lexer": "ipython3",
   "version": "3.11.4"
  },
  "orig_nbformat": 4
 },
 "nbformat": 4,
 "nbformat_minor": 2
}
